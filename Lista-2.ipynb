{
 "cells": [
  {
   "cell_type": "code",
   "execution_count": 1,
   "metadata": {
    "collapsed": false
   },
   "outputs": [],
   "source": [
    "import pandas as pd\n",
    "import numpy as np"
   ]
  },
  {
   "cell_type": "markdown",
   "metadata": {},
   "source": [
    "## 1. Ler arquivo `.csv` utilizando [pandas](http://pandas.pydata.org/)"
   ]
  },
  {
   "cell_type": "code",
   "execution_count": 2,
   "metadata": {
    "collapsed": false
   },
   "outputs": [
    {
     "data": {
      "text/html": [
       "<div>\n",
       "<style>\n",
       "    .dataframe thead tr:only-child th {\n",
       "        text-align: right;\n",
       "    }\n",
       "\n",
       "    .dataframe thead th {\n",
       "        text-align: left;\n",
       "    }\n",
       "\n",
       "    .dataframe tbody tr th {\n",
       "        vertical-align: top;\n",
       "    }\n",
       "</style>\n",
       "<table border=\"1\" class=\"dataframe\">\n",
       "  <thead>\n",
       "    <tr style=\"text-align: right;\">\n",
       "      <th></th>\n",
       "      <th>title</th>\n",
       "      <th>description</th>\n",
       "      <th>text</th>\n",
       "    </tr>\n",
       "  </thead>\n",
       "  <tbody>\n",
       "    <tr>\n",
       "      <th>0</th>\n",
       "      <td>Graphical model</td>\n",
       "      <td>A graphical model or probabilistic graphical m...</td>\n",
       "      <td>Generally, probabilistic graphical models use ...</td>\n",
       "    </tr>\n",
       "    <tr>\n",
       "      <th>1</th>\n",
       "      <td>Modelo en grafo</td>\n",
       "      <td>En teoría de probabilidades y en estadística, ...</td>\n",
       "      <td>En el caso más sencillo, la estructura de la r...</td>\n",
       "    </tr>\n",
       "    <tr>\n",
       "      <th>2</th>\n",
       "      <td>Modèle graphique</td>\n",
       "      <td>Un modèle graphique est une représentation d'o...</td>\n",
       "      <td>Un modèle graphique est un graphe orienté ou n...</td>\n",
       "    </tr>\n",
       "  </tbody>\n",
       "</table>\n",
       "</div>"
      ],
      "text/plain": [
       "              title                                        description  \\\n",
       "0   Graphical model  A graphical model or probabilistic graphical m...   \n",
       "1   Modelo en grafo  En teoría de probabilidades y en estadística, ...   \n",
       "2  Modèle graphique  Un modèle graphique est une représentation d'o...   \n",
       "\n",
       "                                                text  \n",
       "0  Generally, probabilistic graphical models use ...  \n",
       "1  En el caso más sencillo, la estructura de la r...  \n",
       "2  Un modèle graphique est un graphe orienté ou n...  "
      ]
     },
     "execution_count": 2,
     "metadata": {},
     "output_type": "execute_result"
    }
   ],
   "source": [
    "text = pd.read_csv('example.csv', sep=',')\n",
    "text.head()"
   ]
  },
  {
   "cell_type": "code",
   "execution_count": 3,
   "metadata": {
    "collapsed": false
   },
   "outputs": [
    {
     "data": {
      "text/plain": [
       "'A graphical model or probabilistic graphical model (PGM) is a probabilistic model for which a graph expresses the conditional dependence structure between random variables. They are commonly used in probability theory, statistics—particularly Bayesian statistics—and machine learning.'"
      ]
     },
     "execution_count": 3,
     "metadata": {},
     "output_type": "execute_result"
    }
   ],
   "source": [
    "primeiro_texto = text.description[0]\n",
    "primeiro_texto"
   ]
  },
  {
   "cell_type": "markdown",
   "metadata": {},
   "source": [
    "## 2. Separar palavras (_tagging_)\n",
    "\n",
    "### 2.1 [Python split](https://docs.python.org/3/library/stdtypes.html#str.split)"
   ]
  },
  {
   "cell_type": "code",
   "execution_count": 4,
   "metadata": {
    "collapsed": false
   },
   "outputs": [
    {
     "data": {
      "text/plain": [
       "['A',\n",
       " 'graphical',\n",
       " 'model',\n",
       " 'or',\n",
       " 'probabilistic',\n",
       " 'graphical',\n",
       " 'model',\n",
       " '(PGM)',\n",
       " 'is',\n",
       " 'a',\n",
       " 'probabilistic',\n",
       " 'model',\n",
       " 'for',\n",
       " 'which',\n",
       " 'a',\n",
       " 'graph',\n",
       " 'expresses',\n",
       " 'the',\n",
       " 'conditional',\n",
       " 'dependence',\n",
       " 'structure',\n",
       " 'between',\n",
       " 'random',\n",
       " 'variables.',\n",
       " 'They',\n",
       " 'are',\n",
       " 'commonly',\n",
       " 'used',\n",
       " 'in',\n",
       " 'probability',\n",
       " 'theory,',\n",
       " 'statistics—particularly',\n",
       " 'Bayesian',\n",
       " 'statistics—and',\n",
       " 'machine',\n",
       " 'learning.']"
      ]
     },
     "execution_count": 4,
     "metadata": {},
     "output_type": "execute_result"
    }
   ],
   "source": [
    "primeiro_texto.split()"
   ]
  },
  {
   "cell_type": "markdown",
   "metadata": {},
   "source": [
    "### 2.2 [NLTK](http://www.nltk.org/)\n",
    "\n",
    "> NLTK is a leading platform for building Python programs to work with human language data. It provides easy-to-use interfaces to over 50 corpora and lexical resources such as WordNet, along with a suite of text processing libraries for classification, tokenization, stemming, tagging, parsing, and semantic reasoning, wrappers for industrial-strength NLP libraries, and an active discussion forum."
   ]
  },
  {
   "cell_type": "code",
   "execution_count": 5,
   "metadata": {
    "collapsed": false
   },
   "outputs": [
    {
     "data": {
      "text/plain": [
       "['A',\n",
       " 'graphical',\n",
       " 'model',\n",
       " 'or',\n",
       " 'probabilistic',\n",
       " 'graphical',\n",
       " 'model',\n",
       " '(',\n",
       " 'PGM',\n",
       " ')',\n",
       " 'is',\n",
       " 'a',\n",
       " 'probabilistic',\n",
       " 'model',\n",
       " 'for',\n",
       " 'which',\n",
       " 'a',\n",
       " 'graph',\n",
       " 'expresses',\n",
       " 'the',\n",
       " 'conditional',\n",
       " 'dependence',\n",
       " 'structure',\n",
       " 'between',\n",
       " 'random',\n",
       " 'variables',\n",
       " '.',\n",
       " 'They',\n",
       " 'are',\n",
       " 'commonly',\n",
       " 'used',\n",
       " 'in',\n",
       " 'probability',\n",
       " 'theory',\n",
       " ',',\n",
       " 'statistics—particularly',\n",
       " 'Bayesian',\n",
       " 'statistics—and',\n",
       " 'machine',\n",
       " 'learning',\n",
       " '.']"
      ]
     },
     "execution_count": 5,
     "metadata": {},
     "output_type": "execute_result"
    }
   ],
   "source": [
    "import nltk\n",
    "nltk.word_tokenize(primeiro_texto)"
   ]
  },
  {
   "cell_type": "markdown",
   "metadata": {},
   "source": [
    "## 3. Filtro de palavras"
   ]
  },
  {
   "cell_type": "code",
   "execution_count": 6,
   "metadata": {
    "collapsed": false
   },
   "outputs": [
    {
     "name": "stdout",
     "output_type": "stream",
     "text": [
      "showing info https://raw.githubusercontent.com/nltk/nltk_data/gh-pages/index.xml\n"
     ]
    },
    {
     "data": {
      "text/plain": [
       "True"
      ]
     },
     "execution_count": 6,
     "metadata": {},
     "output_type": "execute_result"
    }
   ],
   "source": [
    "nltk.download()"
   ]
  },
  {
   "cell_type": "markdown",
   "metadata": {},
   "source": [
    "### 3.1 Filtro por _stopwords_"
   ]
  },
  {
   "cell_type": "code",
   "execution_count": 7,
   "metadata": {
    "collapsed": false
   },
   "outputs": [
    {
     "data": {
      "text/plain": [
       "('\"I\" is a stopword?', True)"
      ]
     },
     "execution_count": 7,
     "metadata": {},
     "output_type": "execute_result"
    }
   ],
   "source": [
    "# Stopwords\n",
    "from nltk.corpus import stopwords\n",
    "\n",
    "'\"I\" is a stopword?', 'i' in stopwords.words('english')"
   ]
  },
  {
   "cell_type": "code",
   "execution_count": 8,
   "metadata": {
    "collapsed": false
   },
   "outputs": [
    {
     "data": {
      "text/plain": [
       "('\"ronaldo\" is a stopword?', False)"
      ]
     },
     "execution_count": 8,
     "metadata": {},
     "output_type": "execute_result"
    }
   ],
   "source": [
    "'\"ronaldo\" is a stopword?', 'ronaldo' in stopwords.words('english')"
   ]
  },
  {
   "cell_type": "code",
   "execution_count": 9,
   "metadata": {
    "collapsed": false
   },
   "outputs": [
    {
     "data": {
      "text/plain": [
       "{'(PGM)',\n",
       " 'A',\n",
       " 'Bayesian',\n",
       " 'They',\n",
       " 'commonly',\n",
       " 'conditional',\n",
       " 'dependence',\n",
       " 'expresses',\n",
       " 'graph',\n",
       " 'graphical',\n",
       " 'learning.',\n",
       " 'machine',\n",
       " 'model',\n",
       " 'probabilistic',\n",
       " 'probability',\n",
       " 'random',\n",
       " 'statistics—and',\n",
       " 'statistics—particularly',\n",
       " 'structure',\n",
       " 'theory,',\n",
       " 'used',\n",
       " 'variables.'}"
      ]
     },
     "execution_count": 9,
     "metadata": {},
     "output_type": "execute_result"
    }
   ],
   "source": [
    "import enchant\n",
    "\n",
    "palavras = set(primeiro_texto.split())\n",
    "english_stop_words = set(stopwords.words('english'))\n",
    "\n",
    "palavras_filtradas = palavras - english_stop_words\n",
    "palavras_filtradas"
   ]
  },
  {
   "cell_type": "markdown",
   "metadata": {},
   "source": [
    "### 3.2 Filtro por palavras em um dicionário"
   ]
  },
  {
   "cell_type": "code",
   "execution_count": 10,
   "metadata": {
    "collapsed": false
   },
   "outputs": [
    {
     "name": "stdout",
     "output_type": "stream",
     "text": [
      "Requirement already satisfied: pyenchant in /home/paulo/anaconda3/lib/python3.5/site-packages\r\n"
     ]
    }
   ],
   "source": [
    "# Instalar pyenchant (que contém dicionários)\n",
    "!pip install pyenchant"
   ]
  },
  {
   "cell_type": "code",
   "execution_count": 11,
   "metadata": {
    "collapsed": false
   },
   "outputs": [
    {
     "data": {
      "text/plain": [
       "('\"Hello\" in en_US?', True)"
      ]
     },
     "execution_count": 11,
     "metadata": {},
     "output_type": "execute_result"
    }
   ],
   "source": [
    "dictionary_en_US = enchant.Dict(\"en_US\")\n",
    "\n",
    "'\"Hello\" in en_US?', dictionary_en_US.check('hello')"
   ]
  },
  {
   "cell_type": "code",
   "execution_count": 12,
   "metadata": {
    "collapsed": false
   },
   "outputs": [
    {
     "data": {
      "text/plain": [
       "('\"Cata-vento\" in en_US?', False)"
      ]
     },
     "execution_count": 12,
     "metadata": {},
     "output_type": "execute_result"
    }
   ],
   "source": [
    "'\"Cata-vento\" in en_US?', dictionary_en_US.check('Cata-vento')"
   ]
  },
  {
   "cell_type": "code",
   "execution_count": 13,
   "metadata": {
    "collapsed": false
   },
   "outputs": [
    {
     "data": {
      "text/plain": [
       "{'A',\n",
       " 'Bayesian',\n",
       " 'They',\n",
       " 'a',\n",
       " 'are',\n",
       " 'between',\n",
       " 'commonly',\n",
       " 'conditional',\n",
       " 'dependence',\n",
       " 'expresses',\n",
       " 'for',\n",
       " 'graph',\n",
       " 'graphical',\n",
       " 'in',\n",
       " 'is',\n",
       " 'learning.',\n",
       " 'machine',\n",
       " 'model',\n",
       " 'or',\n",
       " 'probabilistic',\n",
       " 'probability',\n",
       " 'random',\n",
       " 'structure',\n",
       " 'the',\n",
       " 'used',\n",
       " 'variables.',\n",
       " 'which'}"
      ]
     },
     "execution_count": 13,
     "metadata": {},
     "output_type": "execute_result"
    }
   ],
   "source": [
    "palavras_filtradas = set(filter(dictionary_en_US.check, palavras))\n",
    "palavras_filtradas"
   ]
  },
  {
   "cell_type": "markdown",
   "metadata": {},
   "source": [
    "## 4. Tagging\n",
    "\n",
    "**Categorizing and Tagging Words**: http://www.nltk.org/book/ch05.html"
   ]
  },
  {
   "cell_type": "code",
   "execution_count": 14,
   "metadata": {
    "collapsed": false
   },
   "outputs": [
    {
     "data": {
      "text/plain": [
       "[('At', 'IN'),\n",
       " ('eight', 'CD'),\n",
       " (\"o'clock\", 'NN'),\n",
       " ('on', 'IN'),\n",
       " ('Thursday', 'NNP'),\n",
       " ('morning', 'NN'),\n",
       " ('...', ':'),\n",
       " ('Arthur', 'NNP'),\n",
       " ('did', 'VBD'),\n",
       " (\"n't\", 'RB'),\n",
       " ('feel', 'VB'),\n",
       " ('very', 'RB'),\n",
       " ('good', 'JJ'),\n",
       " ('.', '.')]"
      ]
     },
     "execution_count": 14,
     "metadata": {},
     "output_type": "execute_result"
    }
   ],
   "source": [
    "import nltk\n",
    "\n",
    "sentence = \"\"\"At eight o'clock on Thursday morning\n",
    "... Arthur didn't feel very good.\"\"\"\n",
    "tokens = nltk.word_tokenize(sentence)\n",
    "\n",
    "tagged = nltk.pos_tag(tokens)\n",
    "tagged"
   ]
  },
  {
   "cell_type": "markdown",
   "metadata": {},
   "source": [
    "## 5. Separar treino e teste"
   ]
  },
  {
   "cell_type": "code",
   "execution_count": 16,
   "metadata": {
    "collapsed": false
   },
   "outputs": [],
   "source": [
    "from sklearn.model_selection import train_test_split\n",
    "\n",
    "train, test = train_test_split(text, test_size=0.33)"
   ]
  },
  {
   "cell_type": "code",
   "execution_count": 17,
   "metadata": {
    "collapsed": false
   },
   "outputs": [
    {
     "data": {
      "text/html": [
       "<div>\n",
       "<style>\n",
       "    .dataframe thead tr:only-child th {\n",
       "        text-align: right;\n",
       "    }\n",
       "\n",
       "    .dataframe thead th {\n",
       "        text-align: left;\n",
       "    }\n",
       "\n",
       "    .dataframe tbody tr th {\n",
       "        vertical-align: top;\n",
       "    }\n",
       "</style>\n",
       "<table border=\"1\" class=\"dataframe\">\n",
       "  <thead>\n",
       "    <tr style=\"text-align: right;\">\n",
       "      <th></th>\n",
       "      <th>title</th>\n",
       "      <th>description</th>\n",
       "      <th>text</th>\n",
       "    </tr>\n",
       "  </thead>\n",
       "  <tbody>\n",
       "    <tr>\n",
       "      <th>1</th>\n",
       "      <td>Modelo en grafo</td>\n",
       "      <td>En teoría de probabilidades y en estadística, ...</td>\n",
       "      <td>En el caso más sencillo, la estructura de la r...</td>\n",
       "    </tr>\n",
       "    <tr>\n",
       "      <th>0</th>\n",
       "      <td>Graphical model</td>\n",
       "      <td>A graphical model or probabilistic graphical m...</td>\n",
       "      <td>Generally, probabilistic graphical models use ...</td>\n",
       "    </tr>\n",
       "  </tbody>\n",
       "</table>\n",
       "</div>"
      ],
      "text/plain": [
       "             title                                        description  \\\n",
       "1  Modelo en grafo  En teoría de probabilidades y en estadística, ...   \n",
       "0  Graphical model  A graphical model or probabilistic graphical m...   \n",
       "\n",
       "                                                text  \n",
       "1  En el caso más sencillo, la estructura de la r...  \n",
       "0  Generally, probabilistic graphical models use ...  "
      ]
     },
     "execution_count": 17,
     "metadata": {},
     "output_type": "execute_result"
    }
   ],
   "source": [
    "train"
   ]
  },
  {
   "cell_type": "code",
   "execution_count": 18,
   "metadata": {
    "collapsed": false
   },
   "outputs": [
    {
     "data": {
      "text/html": [
       "<div>\n",
       "<style>\n",
       "    .dataframe thead tr:only-child th {\n",
       "        text-align: right;\n",
       "    }\n",
       "\n",
       "    .dataframe thead th {\n",
       "        text-align: left;\n",
       "    }\n",
       "\n",
       "    .dataframe tbody tr th {\n",
       "        vertical-align: top;\n",
       "    }\n",
       "</style>\n",
       "<table border=\"1\" class=\"dataframe\">\n",
       "  <thead>\n",
       "    <tr style=\"text-align: right;\">\n",
       "      <th></th>\n",
       "      <th>title</th>\n",
       "      <th>description</th>\n",
       "      <th>text</th>\n",
       "    </tr>\n",
       "  </thead>\n",
       "  <tbody>\n",
       "    <tr>\n",
       "      <th>2</th>\n",
       "      <td>Modèle graphique</td>\n",
       "      <td>Un modèle graphique est une représentation d'o...</td>\n",
       "      <td>Un modèle graphique est un graphe orienté ou n...</td>\n",
       "    </tr>\n",
       "  </tbody>\n",
       "</table>\n",
       "</div>"
      ],
      "text/plain": [
       "              title                                        description  \\\n",
       "2  Modèle graphique  Un modèle graphique est une représentation d'o...   \n",
       "\n",
       "                                                text  \n",
       "2  Un modèle graphique est un graphe orienté ou n...  "
      ]
     },
     "execution_count": 18,
     "metadata": {},
     "output_type": "execute_result"
    }
   ],
   "source": [
    "test"
   ]
  }
 ],
 "metadata": {
  "anaconda-cloud": {},
  "kernelspec": {
   "display_name": "Python [conda root]",
   "language": "python",
   "name": "conda-root-py"
  },
  "language_info": {
   "codemirror_mode": {
    "name": "ipython",
    "version": 3
   },
   "file_extension": ".py",
   "mimetype": "text/x-python",
   "name": "python",
   "nbconvert_exporter": "python",
   "pygments_lexer": "ipython3",
   "version": "3.5.2"
  }
 },
 "nbformat": 4,
 "nbformat_minor": 1
}
